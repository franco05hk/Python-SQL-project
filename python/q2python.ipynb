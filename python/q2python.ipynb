{
 "cells": [
  {
   "cell_type": "code",
   "execution_count": 1,
   "id": "44e292c4",
   "metadata": {},
   "outputs": [],
   "source": [
    "import pandas as pd\n",
    "data=pd.read_csv('filmTable.csv')"
   ]
  },
  {
   "cell_type": "code",
   "execution_count": 5,
   "id": "fc3b74c9",
   "metadata": {},
   "outputs": [
    {
     "data": {
      "text/plain": [
       "<bound method NDFrame.head of                  title                                        description\n",
       "0      Chamber Italian  A Fateful Reflection of a Moose And a Husband ...\n",
       "1     Grosse Wonderful  A Epic Drama of a Cat And a Explorer who must ...\n",
       "2      Airport Pollock  A Epic Tale of a Moose And a Girl who must Con...\n",
       "3    Bright Encounters  A Fateful Yarn of a Lumberjack And a Feminist ...\n",
       "4     Academy Dinosaur  A Epic Drama of a Feminist And a Mad Scientist...\n",
       "..                 ...                                                ...\n",
       "995     Young Language  A Unbelieveable Yarn of a Boat And a Database ...\n",
       "996         Youth Kick  A Touching Drama of a Teacher And a Cat who mu...\n",
       "997       Zhivago Core  A Fateful Yarn of a Composer And a Man who mus...\n",
       "998  Zoolander Fiction  A Fateful Reflection of a Waitress And a Boat ...\n",
       "999          Zorro Ark  A Intrepid Panorama of a Mad Scientist And a B...\n",
       "\n",
       "[1000 rows x 2 columns]>"
      ]
     },
     "execution_count": 5,
     "metadata": {},
     "output_type": "execute_result"
    }
   ],
   "source": [
    "data.head"
   ]
  },
  {
   "cell_type": "code",
   "execution_count": 13,
   "id": "d30a19f9",
   "metadata": {},
   "outputs": [
    {
     "name": "stdout",
     "output_type": "stream",
     "text": [
      "                 title                                        description  \\\n",
      "0      Chamber Italian  A Fateful Reflection of a Moose And a Husband ...   \n",
      "1     Grosse Wonderful  A Epic Drama of a Cat And a Explorer who must ...   \n",
      "2      Airport Pollock  A Epic Tale of a Moose And a Girl who must Con...   \n",
      "3    Bright Encounters  A Fateful Yarn of a Lumberjack And a Feminist ...   \n",
      "4     Academy Dinosaur  A Epic Drama of a Feminist And a Mad Scientist...   \n",
      "..                 ...                                                ...   \n",
      "995     Young Language  A Unbelieveable Yarn of a Boat And a Database ...   \n",
      "996         Youth Kick  A Touching Drama of a Teacher And a Cat who mu...   \n",
      "997       Zhivago Core  A Fateful Yarn of a Composer And a Man who mus...   \n",
      "998  Zoolander Fiction  A Fateful Reflection of a Waitress And a Boat ...   \n",
      "999          Zorro Ark  A Intrepid Panorama of a Mad Scientist And a B...   \n",
      "\n",
      "    classification  \n",
      "0          Unknown  \n",
      "1           Legend  \n",
      "2           Legend  \n",
      "3          Unknown  \n",
      "4           Legend  \n",
      "..             ...  \n",
      "995        Unknown  \n",
      "996        Unknown  \n",
      "997        Unknown  \n",
      "998        Unknown  \n",
      "999        Unknown  \n",
      "\n",
      "[1000 rows x 3 columns]\n"
     ]
    }
   ],
   "source": [
    "df = pd.DataFrame(data)\n",
    "\n",
    "# Define keywords and their corresponding classes\n",
    "keyword_classes = {\n",
    "    'Boring': 'Waste_of_time',\n",
    "    'Emotional' or 'Fast': 'Exciting',\n",
    "    'Amazing' or 'Brillant': 'Great',\n",
    "    'Epic' or 'Insightful': 'Legend'\n",
    "}\n",
    "\n",
    "# Define a function to classify descriptions based on keywords\n",
    "def classify_by_keywords(description):\n",
    "    words = description.split()  # Split the description into words\n",
    "    for word in words:\n",
    "        if word in keyword_classes:\n",
    "            return keyword_classes[word]\n",
    "    return 'Unknown'\n",
    "\n",
    "# Apply the function to create a new 'classification' column\n",
    "df['classification'] = df['description'].apply(classify_by_keywords)\n",
    "df = pd.DataFrame(data)\n",
    "pd.set_option('display.max_rows', 10)\n",
    "print(df)"
   ]
  },
  {
   "cell_type": "code",
   "execution_count": 14,
   "id": "b1c355e6",
   "metadata": {},
   "outputs": [
    {
     "name": "stdout",
     "output_type": "stream",
     "text": [
      "                  title                                        description  \\\n",
      "1      Grosse Wonderful  A Epic Drama of a Cat And a Explorer who must ...   \n",
      "2       Airport Pollock  A Epic Tale of a Moose And a Girl who must Con...   \n",
      "4      Academy Dinosaur  A Epic Drama of a Feminist And a Mad Scientist...   \n",
      "13      Alamo Videotape  A Boring Epistle of a Butler And a Cat who mus...   \n",
      "17       Alice Fantasia  A Emotional Drama of a A Shark And a Database ...   \n",
      "..                  ...                                                ...   \n",
      "956         War Notting  A Boring Drama of a Teacher And a Sumo Wrestle...   \n",
      "964  Watership Frontier  A Emotional Yarn of a Boat And a Crocodile who...   \n",
      "983      Wonderful Drop  A Boring Panorama of a Woman And a Madman who ...   \n",
      "992      Wrong Behavior  A Emotional Saga of a Crocodile And a Sumo Wre...   \n",
      "994         Yentl Idaho  A Amazing Display of a Robot And a Astronaut w...   \n",
      "\n",
      "    classification  \n",
      "1           Legend  \n",
      "2           Legend  \n",
      "4           Legend  \n",
      "13   Waste_of_time  \n",
      "17        Exciting  \n",
      "..             ...  \n",
      "956  Waste_of_time  \n",
      "964       Exciting  \n",
      "983  Waste_of_time  \n",
      "992       Exciting  \n",
      "994          Great  \n",
      "\n",
      "[200 rows x 3 columns]\n"
     ]
    }
   ],
   "source": [
    "df = df[df['classification'] != 'Unknown']\n",
    "\n",
    "print(df)"
   ]
  },
  {
   "cell_type": "code",
   "execution_count": 15,
   "id": "4e2fcb12",
   "metadata": {},
   "outputs": [
    {
     "name": "stdout",
     "output_type": "stream",
     "text": [
      "Exciting         57\n",
      "Waste_of_time    53\n",
      "Great            48\n",
      "Legend           42\n",
      "Name: classification, dtype: int64\n"
     ]
    }
   ],
   "source": [
    "classification_counts = df['classification'].value_counts()\n",
    "\n",
    "print(classification_counts)\n"
   ]
  },
  {
   "cell_type": "code",
   "execution_count": 16,
   "id": "904a7b97",
   "metadata": {},
   "outputs": [
    {
     "data": {
      "text/html": [
       "<div>\n",
       "<style scoped>\n",
       "    .dataframe tbody tr th:only-of-type {\n",
       "        vertical-align: middle;\n",
       "    }\n",
       "\n",
       "    .dataframe tbody tr th {\n",
       "        vertical-align: top;\n",
       "    }\n",
       "\n",
       "    .dataframe thead th {\n",
       "        text-align: right;\n",
       "    }\n",
       "</style>\n",
       "<table border=\"1\" class=\"dataframe\">\n",
       "  <thead>\n",
       "    <tr style=\"text-align: right;\">\n",
       "      <th></th>\n",
       "      <th>title</th>\n",
       "      <th>description</th>\n",
       "      <th>classification</th>\n",
       "    </tr>\n",
       "  </thead>\n",
       "  <tbody>\n",
       "    <tr>\n",
       "      <th>1</th>\n",
       "      <td>Grosse Wonderful</td>\n",
       "      <td>A Epic Drama of a Cat And a Explorer who must ...</td>\n",
       "      <td>Legend</td>\n",
       "    </tr>\n",
       "    <tr>\n",
       "      <th>2</th>\n",
       "      <td>Airport Pollock</td>\n",
       "      <td>A Epic Tale of a Moose And a Girl who must Con...</td>\n",
       "      <td>Legend</td>\n",
       "    </tr>\n",
       "    <tr>\n",
       "      <th>4</th>\n",
       "      <td>Academy Dinosaur</td>\n",
       "      <td>A Epic Drama of a Feminist And a Mad Scientist...</td>\n",
       "      <td>Legend</td>\n",
       "    </tr>\n",
       "    <tr>\n",
       "      <th>33</th>\n",
       "      <td>Anything Savannah</td>\n",
       "      <td>A Epic Story of a Pastry Chef And a Woman who ...</td>\n",
       "      <td>Legend</td>\n",
       "    </tr>\n",
       "    <tr>\n",
       "      <th>58</th>\n",
       "      <td>Bang Kwai</td>\n",
       "      <td>A Epic Drama of a Madman And a Cat who must Fa...</td>\n",
       "      <td>Legend</td>\n",
       "    </tr>\n",
       "    <tr>\n",
       "      <th>...</th>\n",
       "      <td>...</td>\n",
       "      <td>...</td>\n",
       "      <td>...</td>\n",
       "    </tr>\n",
       "    <tr>\n",
       "      <th>799</th>\n",
       "      <td>Sinners Atlantis</td>\n",
       "      <td>A Epic Display of a Dog And a Boat who must Su...</td>\n",
       "      <td>Legend</td>\n",
       "    </tr>\n",
       "    <tr>\n",
       "      <th>801</th>\n",
       "      <td>Sky Miracle</td>\n",
       "      <td>A Epic Drama of a Mad Scientist And a Explorer...</td>\n",
       "      <td>Legend</td>\n",
       "    </tr>\n",
       "    <tr>\n",
       "      <th>864</th>\n",
       "      <td>Sundance Invasion</td>\n",
       "      <td>A Epic Drama of a Lumberjack And a Explorer wh...</td>\n",
       "      <td>Legend</td>\n",
       "    </tr>\n",
       "    <tr>\n",
       "      <th>932</th>\n",
       "      <td>Vampire Whale</td>\n",
       "      <td>A Epic Story of a Lumberjack And a Monkey who ...</td>\n",
       "      <td>Legend</td>\n",
       "    </tr>\n",
       "    <tr>\n",
       "      <th>950</th>\n",
       "      <td>Voyage Legally</td>\n",
       "      <td>A Epic Tale of a Squirrel And a Hunter who mus...</td>\n",
       "      <td>Legend</td>\n",
       "    </tr>\n",
       "  </tbody>\n",
       "</table>\n",
       "<p>42 rows × 3 columns</p>\n",
       "</div>"
      ],
      "text/plain": [
       "                 title                                        description  \\\n",
       "1     Grosse Wonderful  A Epic Drama of a Cat And a Explorer who must ...   \n",
       "2      Airport Pollock  A Epic Tale of a Moose And a Girl who must Con...   \n",
       "4     Academy Dinosaur  A Epic Drama of a Feminist And a Mad Scientist...   \n",
       "33   Anything Savannah  A Epic Story of a Pastry Chef And a Woman who ...   \n",
       "58           Bang Kwai  A Epic Drama of a Madman And a Cat who must Fa...   \n",
       "..                 ...                                                ...   \n",
       "799   Sinners Atlantis  A Epic Display of a Dog And a Boat who must Su...   \n",
       "801        Sky Miracle  A Epic Drama of a Mad Scientist And a Explorer...   \n",
       "864  Sundance Invasion  A Epic Drama of a Lumberjack And a Explorer wh...   \n",
       "932      Vampire Whale  A Epic Story of a Lumberjack And a Monkey who ...   \n",
       "950     Voyage Legally  A Epic Tale of a Squirrel And a Hunter who mus...   \n",
       "\n",
       "    classification  \n",
       "1           Legend  \n",
       "2           Legend  \n",
       "4           Legend  \n",
       "33          Legend  \n",
       "58          Legend  \n",
       "..             ...  \n",
       "799         Legend  \n",
       "801         Legend  \n",
       "864         Legend  \n",
       "932         Legend  \n",
       "950         Legend  \n",
       "\n",
       "[42 rows x 3 columns]"
      ]
     },
     "execution_count": 16,
     "metadata": {},
     "output_type": "execute_result"
    }
   ],
   "source": [
    "legend_data = df.query(\"classification == 'Legend'\")\n",
    "legend_data"
   ]
  },
  {
   "cell_type": "code",
   "execution_count": null,
   "id": "9ca3cd8e",
   "metadata": {},
   "outputs": [],
   "source": []
  }
 ],
 "metadata": {
  "kernelspec": {
   "display_name": "Python 3 (ipykernel)",
   "language": "python",
   "name": "python3"
  },
  "language_info": {
   "codemirror_mode": {
    "name": "ipython",
    "version": 3
   },
   "file_extension": ".py",
   "mimetype": "text/x-python",
   "name": "python",
   "nbconvert_exporter": "python",
   "pygments_lexer": "ipython3",
   "version": "3.11.3"
  }
 },
 "nbformat": 4,
 "nbformat_minor": 5
}
